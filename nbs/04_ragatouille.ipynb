{
 "cells": [
  {
   "cell_type": "code",
   "execution_count": 1,
   "metadata": {},
   "outputs": [],
   "source": [
    "%load_ext autoreload\n",
    "%autoreload 2"
   ]
  },
  {
   "cell_type": "markdown",
   "metadata": {
    "vscode": {
     "languageId": "plaintext"
    }
   },
   "source": [
    "# Exploring ColBERT embeddings"
   ]
  },
  {
   "cell_type": "code",
   "execution_count": 2,
   "metadata": {},
   "outputs": [
    {
     "name": "stderr",
     "output_type": "stream",
     "text": [
      "/Users/cck/projects/cck-agents/.venv/lib/python3.12/site-packages/colbert/indexing/loaders.py:25: SyntaxWarning: invalid escape sequence '\\d'\n",
      "  match = re.match(\"doclens.(\\d+).json\", filename)\n"
     ]
    }
   ],
   "source": [
    "from ragatouille import RAGPretrainedModel"
   ]
  },
  {
   "cell_type": "code",
   "execution_count": 3,
   "metadata": {},
   "outputs": [],
   "source": [
    "model_name = \"answerdotai/answerai-colbert-small-v1\""
   ]
  },
  {
   "cell_type": "code",
   "execution_count": 24,
   "metadata": {},
   "outputs": [
    {
     "name": "stderr",
     "output_type": "stream",
     "text": [
      "/Users/cck/projects/cck-agents/.venv/lib/python3.12/site-packages/colbert/utils/amp.py:12: FutureWarning: `torch.cuda.amp.GradScaler(args...)` is deprecated. Please use `torch.amp.GradScaler('cuda', args...)` instead.\n",
      "  self.scaler = torch.cuda.amp.GradScaler()\n",
      "/Users/cck/projects/cck-agents/.venv/lib/python3.12/site-packages/torch/amp/grad_scaler.py:132: UserWarning: torch.cuda.amp.GradScaler is enabled, but CUDA is not available.  Disabling.\n",
      "  warnings.warn(\n"
     ]
    }
   ],
   "source": [
    "RAG = RAGPretrainedModel.from_pretrained(\n",
    "    model_name,\n",
    "    verbose=0,\n",
    ")"
   ]
  },
  {
   "cell_type": "code",
   "execution_count": 25,
   "metadata": {},
   "outputs": [
    {
     "data": {
      "text/plain": [
       "['Hayao Miyazaki is a Japanese director, born on',\n",
       " 'Walt Disney is an American author, director and']"
      ]
     },
     "execution_count": 25,
     "metadata": {},
     "output_type": "execute_result"
    }
   ],
   "source": [
    "docs = [\n",
    "    'Hayao Miyazaki is a Japanese director, born on',\n",
    "    'Walt Disney is an American author, director and',\n",
    "]; docs"
   ]
  },
  {
   "cell_type": "code",
   "execution_count": 26,
   "metadata": {},
   "outputs": [
    {
     "name": "stdout",
     "output_type": "stream",
     "text": [
      "---- WARNING! You are using PLAID with an experimental replacement for FAISS for greater compatibility ----\n",
      "This is a behaviour change from RAGatouille 0.8.0 onwards.\n",
      "This works fine for most users and smallish datasets, but can be considerably slower than FAISS and could cause worse results in some situations.\n",
      "If you're confident with FAISS working on your machine, pass use_faiss=True to revert to the FAISS-using behaviour.\n",
      "--------------------\n",
      "\n",
      "\n",
      "[Apr 08, 22:14:04] #> Note: Output directory .ragatouille/colbert/indexes/ghibli already exists\n",
      "\n",
      "\n",
      "[Apr 08, 22:14:04] #> Will delete 10 files already at .ragatouille/colbert/indexes/ghibli in 20 seconds...\n",
      "[Apr 08, 22:14:25] [0] \t\t #> Encoding 2 passages..\n"
     ]
    },
    {
     "name": "stderr",
     "output_type": "stream",
     "text": [
      "  0%|          | 0/1 [00:00<?, ?it/s]/Users/cck/projects/cck-agents/.venv/lib/python3.12/site-packages/colbert/utils/amp.py:15: FutureWarning: `torch.cuda.amp.autocast(args...)` is deprecated. Please use `torch.amp.autocast('cuda', args...)` instead.\n",
      "  return torch.cuda.amp.autocast() if self.activated else NullContextManager()\n",
      "/Users/cck/projects/cck-agents/.venv/lib/python3.12/site-packages/torch/amp/autocast_mode.py:266: UserWarning: User provided device_type of 'cuda', but CUDA is not available. Disabling\n",
      "  warnings.warn(\n",
      "100%|██████████| 1/1 [00:00<00:00, 26.32it/s]"
     ]
    },
    {
     "name": "stdout",
     "output_type": "stream",
     "text": [
      "[Apr 08, 22:14:25] [0] \t\t avg_doclen_est = 12.5 \t len(local_sample) = 2\n",
      "[Apr 08, 22:14:25] [0] \t\t #> Saving the indexing plan to .ragatouille/colbert/indexes/ghibli/plan.json ..\n"
     ]
    },
    {
     "name": "stderr",
     "output_type": "stream",
     "text": [
      "\n"
     ]
    },
    {
     "name": "stdout",
     "output_type": "stream",
     "text": [
      "Warning: number of training points (24) is less than the minimum recommended (640)\n",
      "used 2 iterations (0.001s) to cluster 24 items into 64 clusters\n",
      "[0.084, 0.017, 0.053, 0.11, 0.004, 0.038, 0.01, 0.044, 0.072, 0.059, 0.098, 0.071, 0.047, 0.108, 0.026, 0.089, 0.013, 0.037, 0.086, 0.077, 0.155, 0.044, 0.09, 0.004, 0.013, 0.045, 0.063, 0.05, 0.008, 0.012, 0.038, 0.017, 0.153, 0.051, 0.031, 0.026, 0.023, 0.035, 0.06, 0.02, 0.016, 0.019, 0.022, 0.003, 0.064, 0.094, 0.053, 0.021, 0.075, 0.012, 0.03, 0.011, 0.04, 0.006, 0.024, 0.009, 0.012, 0.125, 0.018, 0.015, 0.023, 0.007, 0.025, 0.075, 0.028, 0.031, 0.119, 0.022, 0.039, 0.048, 0.078, 0.078, 0.022, 0.147, 0.121, 0.026, 0.078, 0.025, 0.023, 0.012, 0.016, 0.014, 0.018, 0.042, 0.027, 0.071, 0.031, 0.027, 0.01, 0.132, 0.125, 0.022, 0.054, 0.044, 0.016, 0.009]\n"
     ]
    },
    {
     "name": "stderr",
     "output_type": "stream",
     "text": [
      "0it [00:00, ?it/s]"
     ]
    },
    {
     "name": "stdout",
     "output_type": "stream",
     "text": [
      "[Apr 08, 22:14:25] [0] \t\t #> Encoding 2 passages..\n"
     ]
    },
    {
     "name": "stderr",
     "output_type": "stream",
     "text": [
      "100%|██████████| 1/1 [00:00<00:00, 50.51it/s]\n",
      "1it [00:00, 42.76it/s]\n",
      "100%|██████████| 1/1 [00:00<00:00, 1543.16it/s]"
     ]
    },
    {
     "name": "stdout",
     "output_type": "stream",
     "text": [
      "[Apr 08, 22:14:25] #> Optimizing IVF to store map from centroids to list of pids..\n",
      "[Apr 08, 22:14:25] #> Building the emb2pid mapping..\n",
      "[Apr 08, 22:14:25] len(emb2pid) = 25\n"
     ]
    },
    {
     "name": "stderr",
     "output_type": "stream",
     "text": [
      "\n",
      "100%|██████████| 64/64 [00:00<00:00, 41962.71it/s]"
     ]
    },
    {
     "name": "stdout",
     "output_type": "stream",
     "text": [
      "[Apr 08, 22:14:25] #> Saved optimized IVF to .ragatouille/colbert/indexes/ghibli/ivf.pid.pt\n",
      "Done indexing!\n"
     ]
    },
    {
     "name": "stderr",
     "output_type": "stream",
     "text": [
      "\n"
     ]
    },
    {
     "data": {
      "text/plain": [
       "'.ragatouille/colbert/indexes/ghibli'"
      ]
     },
     "execution_count": 26,
     "metadata": {},
     "output_type": "execute_result"
    }
   ],
   "source": [
    "RAG.index(docs, index_name=\"ghibli\")"
   ]
  },
  {
   "cell_type": "code",
   "execution_count": null,
   "metadata": {},
   "outputs": [
    {
     "ename": "TypeError",
     "evalue": "ColBERT.search() got an unexpected keyword argument 'verbose'",
     "output_type": "error",
     "traceback": [
      "\u001b[31m---------------------------------------------------------------------------\u001b[39m",
      "\u001b[31mTypeError\u001b[39m                                 Traceback (most recent call last)",
      "\u001b[36mCell\u001b[39m\u001b[36m \u001b[39m\u001b[32mIn[23]\u001b[39m\u001b[32m, line 2\u001b[39m\n\u001b[32m      1\u001b[39m query = \u001b[33m'\u001b[39m\u001b[33mWho directed spirited away?\u001b[39m\u001b[33m'\u001b[39m\n\u001b[32m----> \u001b[39m\u001b[32m2\u001b[39m results = \u001b[43mRAG\u001b[49m\u001b[43m.\u001b[49m\u001b[43msearch\u001b[49m\u001b[43m(\u001b[49m\n\u001b[32m      3\u001b[39m \u001b[43m    \u001b[49m\u001b[43mquery\u001b[49m\u001b[43m,\u001b[49m\n\u001b[32m      4\u001b[39m \u001b[43m    \u001b[49m\u001b[43mverbose\u001b[49m\u001b[43m=\u001b[49m\u001b[32;43m0\u001b[39;49m\u001b[43m,\u001b[49m\n\u001b[32m      5\u001b[39m \u001b[43m)\u001b[49m\n",
      "\u001b[36mFile \u001b[39m\u001b[32m~/projects/cck-agents/.venv/lib/python3.12/site-packages/ragatouille/RAGPretrainedModel.py:315\u001b[39m, in \u001b[36mRAGPretrainedModel.search\u001b[39m\u001b[34m(self, query, index_name, k, force_fast, zero_index_ranks, doc_ids, **kwargs)\u001b[39m\n\u001b[32m    283\u001b[39m \u001b[38;5;28;01mdef\u001b[39;00m\u001b[38;5;250m \u001b[39m\u001b[34msearch\u001b[39m(\n\u001b[32m    284\u001b[39m     \u001b[38;5;28mself\u001b[39m,\n\u001b[32m    285\u001b[39m     query: Union[\u001b[38;5;28mstr\u001b[39m, \u001b[38;5;28mlist\u001b[39m[\u001b[38;5;28mstr\u001b[39m]],\n\u001b[32m   (...)\u001b[39m\u001b[32m    291\u001b[39m     **kwargs,\n\u001b[32m    292\u001b[39m ):\n\u001b[32m    293\u001b[39m \u001b[38;5;250m    \u001b[39m\u001b[33;03m\"\"\"Query an index.\u001b[39;00m\n\u001b[32m    294\u001b[39m \n\u001b[32m    295\u001b[39m \u001b[33;03m    Parameters:\u001b[39;00m\n\u001b[32m   (...)\u001b[39m\u001b[32m    313\u001b[39m \n\u001b[32m    314\u001b[39m \u001b[33;03m    \"\"\"\u001b[39;00m\n\u001b[32m--> \u001b[39m\u001b[32m315\u001b[39m     \u001b[38;5;28;01mreturn\u001b[39;00m \u001b[38;5;28;43mself\u001b[39;49m\u001b[43m.\u001b[49m\u001b[43mmodel\u001b[49m\u001b[43m.\u001b[49m\u001b[43msearch\u001b[49m\u001b[43m(\u001b[49m\n\u001b[32m    316\u001b[39m \u001b[43m        \u001b[49m\u001b[43mquery\u001b[49m\u001b[43m=\u001b[49m\u001b[43mquery\u001b[49m\u001b[43m,\u001b[49m\n\u001b[32m    317\u001b[39m \u001b[43m        \u001b[49m\u001b[43mindex_name\u001b[49m\u001b[43m=\u001b[49m\u001b[43mindex_name\u001b[49m\u001b[43m,\u001b[49m\n\u001b[32m    318\u001b[39m \u001b[43m        \u001b[49m\u001b[43mk\u001b[49m\u001b[43m=\u001b[49m\u001b[43mk\u001b[49m\u001b[43m,\u001b[49m\n\u001b[32m    319\u001b[39m \u001b[43m        \u001b[49m\u001b[43mforce_fast\u001b[49m\u001b[43m=\u001b[49m\u001b[43mforce_fast\u001b[49m\u001b[43m,\u001b[49m\n\u001b[32m    320\u001b[39m \u001b[43m        \u001b[49m\u001b[43mzero_index_ranks\u001b[49m\u001b[43m=\u001b[49m\u001b[43mzero_index_ranks\u001b[49m\u001b[43m,\u001b[49m\n\u001b[32m    321\u001b[39m \u001b[43m        \u001b[49m\u001b[43mdoc_ids\u001b[49m\u001b[43m=\u001b[49m\u001b[43mdoc_ids\u001b[49m\u001b[43m,\u001b[49m\n\u001b[32m    322\u001b[39m \u001b[43m        \u001b[49m\u001b[43m*\u001b[49m\u001b[43m*\u001b[49m\u001b[43mkwargs\u001b[49m\u001b[43m,\u001b[49m\n\u001b[32m    323\u001b[39m \u001b[43m    \u001b[49m\u001b[43m)\u001b[49m\n",
      "\u001b[31mTypeError\u001b[39m: ColBERT.search() got an unexpected keyword argument 'verbose'"
     ]
    }
   ],
   "source": [
    "query = 'Who directed spirited away?'\n",
    "results = RAG.search(\n",
    "    query,\n",
    ")"
   ]
  },
  {
   "cell_type": "code",
   "execution_count": 22,
   "metadata": {},
   "outputs": [],
   "source": [
    "# RAG.search??"
   ]
  },
  {
   "cell_type": "code",
   "execution_count": 18,
   "metadata": {},
   "outputs": [
    {
     "data": {
      "text/plain": [
       "{'content': 'Hayao Miyazaki is a Japanese director, born on',\n",
       " 'score': 30.546340942382812,\n",
       " 'rank': 1,\n",
       " 'document_id': '4bc00c0e-a3f6-4b4c-9d18-eac0193cacb7',\n",
       " 'passage_id': 0}"
      ]
     },
     "execution_count": 18,
     "metadata": {},
     "output_type": "execute_result"
    }
   ],
   "source": [
    "results[0]"
   ]
  },
  {
   "cell_type": "code",
   "execution_count": 20,
   "metadata": {},
   "outputs": [],
   "source": [
    "from ragatouille.models import ColBERT, LateInteractionModel"
   ]
  },
  {
   "cell_type": "markdown",
   "metadata": {},
   "source": [
    "# Official examples"
   ]
  },
  {
   "cell_type": "code",
   "execution_count": 36,
   "metadata": {},
   "outputs": [],
   "source": [
    "# from ragatouille.utils import get_wikipedia_page\n",
    "# # getting some data to see what it looks like\n",
    "# my_documents = [get_wikipedia_page(\"Hayao_Miyazaki\"), get_wikipedia_page(\"Studio_Ghibli\")]\n",
    "# # index_path = RAG.index(index_name=\"my_index\", collection=my_documents)"
   ]
  },
  {
   "cell_type": "markdown",
   "metadata": {},
   "source": [
    "# Now, we get to test this on the real data"
   ]
  },
  {
   "cell_type": "code",
   "execution_count": 32,
   "metadata": {},
   "outputs": [],
   "source": [
    "from pathlib import Path\n",
    "from fastcore.xtras import *\n",
    "path = Path('./scratch/')"
   ]
  },
  {
   "cell_type": "code",
   "execution_count": 39,
   "metadata": {},
   "outputs": [],
   "source": [
    "# read in the data\n",
    "fid = (path / 'sample_doc-with-image-refs.md')\n",
    "text = fid.read_text()"
   ]
  },
  {
   "cell_type": "code",
   "execution_count": 40,
   "metadata": {},
   "outputs": [
    {
     "data": {
      "text/plain": [
       "68086"
      ]
     },
     "execution_count": 40,
     "metadata": {},
     "output_type": "execute_result"
    }
   ],
   "source": [
    "len(text)"
   ]
  },
  {
   "cell_type": "code",
   "execution_count": 41,
   "metadata": {},
   "outputs": [
    {
     "name": "stdout",
     "output_type": "stream",
     "text": [
      "New index_name received! Updating current index_name (ghibli) to sample_doc\n",
      "---- WARNING! You are using PLAID with an experimental replacement for FAISS for greater compatibility ----\n",
      "This is a behaviour change from RAGatouille 0.8.0 onwards.\n",
      "This works fine for most users and smallish datasets, but can be considerably slower than FAISS and could cause worse results in some situations.\n",
      "If you're confident with FAISS working on your machine, pass use_faiss=True to revert to the FAISS-using behaviour.\n",
      "--------------------\n",
      "\n",
      "\n",
      "[Apr 08, 22:25:33] #> Creating directory .ragatouille/colbert/indexes/sample_doc \n",
      "\n",
      "\n",
      "[Apr 08, 22:25:34] [0] \t\t #> Encoding 105 passages..\n"
     ]
    },
    {
     "name": "stderr",
     "output_type": "stream",
     "text": [
      "/Users/cck/projects/cck-agents/.venv/lib/python3.12/site-packages/colbert/utils/amp.py:12: FutureWarning: `torch.cuda.amp.GradScaler(args...)` is deprecated. Please use `torch.amp.GradScaler('cuda', args...)` instead.\n",
      "  self.scaler = torch.cuda.amp.GradScaler()\n",
      "/Users/cck/projects/cck-agents/.venv/lib/python3.12/site-packages/torch/amp/grad_scaler.py:132: UserWarning: torch.cuda.amp.GradScaler is enabled, but CUDA is not available.  Disabling.\n",
      "  warnings.warn(\n",
      "  0%|          | 0/4 [00:00<?, ?it/s]/Users/cck/projects/cck-agents/.venv/lib/python3.12/site-packages/colbert/utils/amp.py:15: FutureWarning: `torch.cuda.amp.autocast(args...)` is deprecated. Please use `torch.amp.autocast('cuda', args...)` instead.\n",
      "  return torch.cuda.amp.autocast() if self.activated else NullContextManager()\n",
      "/Users/cck/projects/cck-agents/.venv/lib/python3.12/site-packages/torch/amp/autocast_mode.py:266: UserWarning: User provided device_type of 'cuda', but CUDA is not available. Disabling\n",
      "  warnings.warn(\n",
      "100%|██████████| 4/4 [00:02<00:00,  1.93it/s]"
     ]
    },
    {
     "name": "stdout",
     "output_type": "stream",
     "text": [
      "[Apr 08, 22:25:36] [0] \t\t avg_doclen_est = 152.56190490722656 \t len(local_sample) = 105\n",
      "[Apr 08, 22:25:36] [0] \t\t #> Saving the indexing plan to .ragatouille/colbert/indexes/sample_doc/plan.json ..\n"
     ]
    },
    {
     "name": "stderr",
     "output_type": "stream",
     "text": [
      "\n"
     ]
    },
    {
     "name": "stdout",
     "output_type": "stream",
     "text": [
      "used 20 iterations (0.4711s) to cluster 15219 items into 1024 clusters\n",
      "[0.016, 0.016, 0.014, 0.016, 0.015, 0.015, 0.017, 0.016, 0.016, 0.015, 0.016, 0.017, 0.018, 0.015, 0.016, 0.019, 0.014, 0.017, 0.016, 0.016, 0.015, 0.016, 0.018, 0.015, 0.016, 0.016, 0.018, 0.017, 0.016, 0.017, 0.016, 0.014, 0.016, 0.016, 0.016, 0.017, 0.016, 0.016, 0.016, 0.019, 0.016, 0.017, 0.016, 0.017, 0.015, 0.016, 0.017, 0.018, 0.015, 0.016, 0.017, 0.016, 0.015, 0.016, 0.015, 0.016, 0.017, 0.016, 0.016, 0.017, 0.015, 0.017, 0.015, 0.015, 0.016, 0.017, 0.018, 0.015, 0.015, 0.017, 0.016, 0.016, 0.014, 0.017, 0.016, 0.016, 0.015, 0.016, 0.016, 0.017, 0.016, 0.015, 0.017, 0.016, 0.016, 0.016, 0.016, 0.017, 0.017, 0.017, 0.015, 0.018, 0.016, 0.018, 0.015, 0.015]\n"
     ]
    },
    {
     "name": "stderr",
     "output_type": "stream",
     "text": [
      "0it [00:00, ?it/s]"
     ]
    },
    {
     "name": "stdout",
     "output_type": "stream",
     "text": [
      "[Apr 08, 22:25:37] [0] \t\t #> Encoding 105 passages..\n"
     ]
    },
    {
     "name": "stderr",
     "output_type": "stream",
     "text": [
      "100%|██████████| 4/4 [00:01<00:00,  2.05it/s]\n",
      "1it [00:01,  2.00s/it]\n",
      "100%|██████████| 1/1 [00:00<00:00, 1605.17it/s]"
     ]
    },
    {
     "name": "stdout",
     "output_type": "stream",
     "text": [
      "[Apr 08, 22:25:39] #> Optimizing IVF to store map from centroids to list of pids..\n",
      "[Apr 08, 22:25:39] #> Building the emb2pid mapping..\n",
      "[Apr 08, 22:25:39] len(emb2pid) = 16019\n"
     ]
    },
    {
     "name": "stderr",
     "output_type": "stream",
     "text": [
      "\n",
      "100%|██████████| 1024/1024 [00:00<00:00, 159409.39it/s]"
     ]
    },
    {
     "name": "stdout",
     "output_type": "stream",
     "text": [
      "[Apr 08, 22:25:39] #> Saved optimized IVF to .ragatouille/colbert/indexes/sample_doc/ivf.pid.pt\n",
      "Done indexing!\n"
     ]
    },
    {
     "name": "stderr",
     "output_type": "stream",
     "text": [
      "\n"
     ]
    },
    {
     "data": {
      "text/plain": [
       "'.ragatouille/colbert/indexes/sample_doc'"
      ]
     },
     "execution_count": 41,
     "metadata": {},
     "output_type": "execute_result"
    }
   ],
   "source": [
    "RAG.index(\n",
    "    [text], \n",
    "    index_name=\"sample_doc\",\n",
    ")"
   ]
  },
  {
   "cell_type": "code",
   "execution_count": 48,
   "metadata": {},
   "outputs": [
    {
     "name": "stderr",
     "output_type": "stream",
     "text": [
      "/Users/cck/projects/cck-agents/.venv/lib/python3.12/site-packages/colbert/utils/amp.py:15: FutureWarning: `torch.cuda.amp.autocast(args...)` is deprecated. Please use `torch.amp.autocast('cuda', args...)` instead.\n",
      "  return torch.cuda.amp.autocast() if self.activated else NullContextManager()\n",
      "/Users/cck/projects/cck-agents/.venv/lib/python3.12/site-packages/torch/amp/autocast_mode.py:266: UserWarning: User provided device_type of 'cuda', but CUDA is not available. Disabling\n",
      "  warnings.warn(\n"
     ]
    }
   ],
   "source": [
    "res = RAG.search(\n",
    "    \"DNA damage from COVID in men\",\n",
    "    k=3,\n",
    ")"
   ]
  },
  {
   "cell_type": "code",
   "execution_count": 49,
   "metadata": {},
   "outputs": [
    {
     "data": {
      "text/plain": [
       "{'content': 'The current\\n\\nstudy confirms that COVID-19 patients compared to controls and patients with severe compared to moderate infection have increased DNA damage in blood cells evaluated by the comet assay.\\n\\nDNA damage was significantly higher in males than in females in a moderate group of patients. Existing studies of DNA damage do not stratify COVID-19 patients by sex, but our data are consistent with studies indicating that; at all ages, males appear to have a higher likelihood of progressing to severe COVID-19 than females [29]. Sex-based behavior; genetic and hormonal factors, and sex differences in biological pathways associated with SARS-CoV-2 infection are considered as possible causes [30]. Moreover; it was suggested that androgens are positive regulators of TMPRSS2, which is a regulator of SARS-CoV-2 entry [31] No significant differences were found in the level of DNA damage between adults and the elderly in both moderate and severe groups, possibly due to insufficient age differences to influence this parameter (62 (44.5-69.5) versus 72 (63.0-70.0) years).',\n",
       " 'score': 31.192806243896484,\n",
       " 'rank': 1,\n",
       " 'document_id': '8555a9d5-3b64-4854-a5ab-a2c3235b3bac',\n",
       " 'passage_id': 61}"
      ]
     },
     "execution_count": 49,
     "metadata": {},
     "output_type": "execute_result"
    }
   ],
   "source": [
    "res[0]"
   ]
  },
  {
   "cell_type": "code",
   "execution_count": 50,
   "metadata": {},
   "outputs": [
    {
     "data": {
      "text/plain": [
       "{'content': 'In combined group of COVID-19 patients, DNA damage was shown to be elevated compared to controls (12.44% vs. 5.09%, p &lt; 0.05). Severe cases showed higher DNA damage than moderate cases (14.66% vs. 10.65%, p &lt; 0.05) , and males displayed more damage than females (13.45% vs. 8.15%, p &lt; 0.05). DNA damage is also correlated with international normalized ratio (INR) (r = 0.471, p &lt; 0.001) and creatinine (r = 0.326, p &lt; 0.05). In addition to DNA damage, severe COVID-19 is associated with age, C-reactive protein (CRP) , and creatinine Receiver operating characteristic analysis identified age, INR, creatinine, DNA damage, and CRP as significant predictors of disease severity, with cut-off values of 72.50 years , 1.46 s, 78.0 umol/L, 9.72%, and 50.0 mg/L, respectively.',\n",
       " 'score': 31.177160263061523,\n",
       " 'rank': 2,\n",
       " 'document_id': '8555a9d5-3b64-4854-a5ab-a2c3235b3bac',\n",
       " 'passage_id': 2}"
      ]
     },
     "execution_count": 50,
     "metadata": {},
     "output_type": "execute_result"
    }
   ],
   "source": [
    "res[1]"
   ]
  },
  {
   "cell_type": "code",
   "execution_count": 51,
   "metadata": {},
   "outputs": [
    {
     "data": {
      "text/plain": [
       "{'content': 'Our analysis revealed that patients with severe COVID-19 exhibited higher levels of DNA damage compared to those with moderate disease, with male patients showing more pronounced damage than females. predictors of severity included age, CRP , creatinine, and INR, all correlating positively with DNA damage. ROC analysis further validated and identified specific cut-off values for the age (72.5 years)  INR (1.46 s), creatinine (78.0 umol/L) DNA damage (9.72%), and CRP (50.0 mg/L) as significant predictors of severe COVID-19 , highlighting their clinical relevance\\\\_ The cut-off points of the indicators studied are not valid in all subgroups strati fied by sex and age, and there are also minor differences in level between them, which is consistent with the importance of sex and age in the severity of infection and should be taken into account:. Thus, in the studied group of patients, the levels of DNA damage are well consistent with the severity of COVID-19.',\n",
       " 'score': 31.155963897705078,\n",
       " 'rank': 3,\n",
       " 'document_id': '8555a9d5-3b64-4854-a5ab-a2c3235b3bac',\n",
       " 'passage_id': 79}"
      ]
     },
     "execution_count": 51,
     "metadata": {},
     "output_type": "execute_result"
    }
   ],
   "source": [
    "res[2]"
   ]
  }
 ],
 "metadata": {
  "kernelspec": {
   "display_name": ".venv",
   "language": "python",
   "name": "python3"
  },
  "language_info": {
   "codemirror_mode": {
    "name": "ipython",
    "version": 3
   },
   "file_extension": ".py",
   "mimetype": "text/x-python",
   "name": "python",
   "nbconvert_exporter": "python",
   "pygments_lexer": "ipython3",
   "version": "3.12.6"
  }
 },
 "nbformat": 4,
 "nbformat_minor": 2
}
