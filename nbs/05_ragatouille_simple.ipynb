{
 "cells": [
  {
   "cell_type": "code",
   "execution_count": 1,
   "metadata": {},
   "outputs": [],
   "source": [
    "%load_ext autoreload\n",
    "%autoreload 2"
   ]
  },
  {
   "cell_type": "code",
   "execution_count": 2,
   "metadata": {},
   "outputs": [],
   "source": [
    "import os\n",
    "import sys\n",
    "sys.path.insert(0, '..')\n",
    "from pathlib import Path\n",
    "from fastcore.xtras import *"
   ]
  },
  {
   "cell_type": "code",
   "execution_count": 3,
   "metadata": {},
   "outputs": [
    {
     "name": "stdout",
     "output_type": "stream",
     "text": [
      "[Apr 08, 23:13:45] Loading segmented_maxsim_cpp extension (set COLBERT_LOAD_TORCH_EXTENSION_VERBOSE=True for more info)...\n"
     ]
    },
    {
     "name": "stderr",
     "output_type": "stream",
     "text": [
      "/Users/cck/projects/cck-agents/.venv/lib/python3.12/site-packages/colbert/utils/amp.py:12: FutureWarning: `torch.cuda.amp.GradScaler(args...)` is deprecated. Please use `torch.amp.GradScaler('cuda', args...)` instead.\n",
      "  self.scaler = torch.cuda.amp.GradScaler()\n",
      "/Users/cck/projects/cck-agents/.venv/lib/python3.12/site-packages/torch/amp/grad_scaler.py:132: UserWarning: torch.cuda.amp.GradScaler is enabled, but CUDA is not available.  Disabling.\n",
      "  warnings.warn(\n"
     ]
    }
   ],
   "source": [
    "from framework.documents import * \n",
    "from framework.embeddings import *"
   ]
  },
  {
   "cell_type": "markdown",
   "metadata": {
    "vscode": {
     "languageId": "plaintext"
    }
   },
   "source": [
    "# Test the chunking and embedding of our PDF"
   ]
  },
  {
   "cell_type": "code",
   "execution_count": 38,
   "metadata": {},
   "outputs": [
    {
     "data": {
      "text/plain": [
       "68086"
      ]
     },
     "execution_count": 38,
     "metadata": {},
     "output_type": "execute_result"
    }
   ],
   "source": [
    "data = Path('scratch')\n",
    "fid = data / 'sample_doc-with-image-refs.md'\n",
    "full_doc = fid.read_text()\n",
    "len(full_doc)"
   ]
  },
  {
   "cell_type": "code",
   "execution_count": 5,
   "metadata": {},
   "outputs": [],
   "source": [
    "# convert the doc\n",
    "orig_file = '../sample_doc.pdf'\n",
    "res = convert(orig_file)"
   ]
  },
  {
   "cell_type": "code",
   "execution_count": 43,
   "metadata": {},
   "outputs": [
    {
     "data": {
      "text/plain": [
       "docling_core.types.doc.document.DoclingDocument"
      ]
     },
     "execution_count": 43,
     "metadata": {},
     "output_type": "execute_result"
    }
   ],
   "source": [
    "type(res.document)"
   ]
  },
  {
   "cell_type": "code",
   "execution_count": 45,
   "metadata": {},
   "outputs": [],
   "source": [
    "from docling_core.types.doc.document import DoclingDocument"
   ]
  },
  {
   "cell_type": "code",
   "execution_count": 44,
   "metadata": {},
   "outputs": [],
   "source": [
    "res.document.save_as_json(\"sample_doc.json\")"
   ]
  },
  {
   "cell_type": "code",
   "execution_count": 47,
   "metadata": {},
   "outputs": [],
   "source": [
    "document = DoclingDocument.load_from_json(\"sample_doc.json\")"
   ]
  },
  {
   "cell_type": "code",
   "execution_count": 48,
   "metadata": {},
   "outputs": [],
   "source": [
    "# chunk up the doc for ColBERT\n",
    "texts, metas = chunk_docling_md(document)"
   ]
  },
  {
   "cell_type": "code",
   "execution_count": 49,
   "metadata": {},
   "outputs": [
    {
     "data": {
      "text/plain": [
       "(95, 95)"
      ]
     },
     "execution_count": 49,
     "metadata": {},
     "output_type": "execute_result"
    }
   ],
   "source": [
    "len(texts),len(metas)"
   ]
  },
  {
   "cell_type": "code",
   "execution_count": 30,
   "metadata": {},
   "outputs": [
    {
     "data": {
      "image/png": "[encoded data removed]",
      "text/plain": [
       "<Figure size 640x480 with 1 Axes>"
      ]
     },
     "metadata": {},
     "output_type": "display_data"
    },
    {
     "data": {
      "text/plain": [
       "(741.0736842105263, 404.0, 8914, 7)"
      ]
     },
     "execution_count": 30,
     "metadata": {},
     "output_type": "execute_result"
    }
   ],
   "source": [
    "import matplotlib.pyplot as plt\n",
    "import numpy as np\n",
    "lens = [len(t) for t in texts]\n",
    "plt.hist(lens)\n",
    "plt.show()\n",
    "np.mean(lens),np.median(lens),np.max(lens),np.min(lens)"
   ]
  },
  {
   "cell_type": "markdown",
   "metadata": {},
   "source": [
    "# Embeddding the texts"
   ]
  },
  {
   "cell_type": "code",
   "execution_count": null,
   "metadata": {},
   "outputs": [],
   "source": [
    "type(res)"
   ]
  },
  {
   "cell_type": "code",
   "execution_count": 40,
   "metadata": {},
   "outputs": [
    {
     "name": "stdout",
     "output_type": "stream",
     "text": [
      "New index_name received! Updating current index_name (sample_doc) to sample_doc_full\n",
      "---- WARNING! You are using PLAID with an experimental replacement for FAISS for greater compatibility ----\n",
      "This is a behaviour change from RAGatouille 0.8.0 onwards.\n",
      "This works fine for most users and smallish datasets, but can be considerably slower than FAISS and could cause worse results in some situations.\n",
      "If you're confident with FAISS working on your machine, pass use_faiss=True to revert to the FAISS-using behaviour.\n",
      "--------------------\n",
      "\n",
      "\n",
      "[Apr 08, 23:26:48] #> Creating directory .ragatouille/colbert/indexes/sample_doc_full \n",
      "\n",
      "\n",
      "[Apr 08, 23:26:49] [0] \t\t #> Encoding 105 passages..\n"
     ]
    },
    {
     "name": "stderr",
     "output_type": "stream",
     "text": [
      "/Users/cck/projects/cck-agents/.venv/lib/python3.12/site-packages/colbert/utils/amp.py:12: FutureWarning: `torch.cuda.amp.GradScaler(args...)` is deprecated. Please use `torch.amp.GradScaler('cuda', args...)` instead.\n",
      "  self.scaler = torch.cuda.amp.GradScaler()\n",
      "/Users/cck/projects/cck-agents/.venv/lib/python3.12/site-packages/torch/amp/grad_scaler.py:132: UserWarning: torch.cuda.amp.GradScaler is enabled, but CUDA is not available.  Disabling.\n",
      "  warnings.warn(\n",
      "  0%|          | 0/4 [00:00<?, ?it/s]/Users/cck/projects/cck-agents/.venv/lib/python3.12/site-packages/colbert/utils/amp.py:15: FutureWarning: `torch.cuda.amp.autocast(args...)` is deprecated. Please use `torch.amp.autocast('cuda', args...)` instead.\n",
      "  return torch.cuda.amp.autocast() if self.activated else NullContextManager()\n",
      "/Users/cck/projects/cck-agents/.venv/lib/python3.12/site-packages/torch/amp/autocast_mode.py:266: UserWarning: User provided device_type of 'cuda', but CUDA is not available. Disabling\n",
      "  warnings.warn(\n",
      "100%|██████████| 4/4 [00:02<00:00,  1.71it/s]"
     ]
    },
    {
     "name": "stdout",
     "output_type": "stream",
     "text": [
      "[Apr 08, 23:26:51] [0] \t\t avg_doclen_est = 152.56190490722656 \t len(local_sample) = 105\n"
     ]
    },
    {
     "name": "stderr",
     "output_type": "stream",
     "text": [
      "\n"
     ]
    },
    {
     "name": "stdout",
     "output_type": "stream",
     "text": [
      "[Apr 08, 23:26:51] [0] \t\t #> Saving the indexing plan to .ragatouille/colbert/indexes/sample_doc_full/plan.json ..\n",
      "used 20 iterations (0.448s) to cluster 15219 items into 1024 clusters\n",
      "[0.016, 0.016, 0.014, 0.016, 0.015, 0.015, 0.017, 0.016, 0.016, 0.015, 0.016, 0.017, 0.018, 0.015, 0.016, 0.019, 0.014, 0.017, 0.016, 0.016, 0.015, 0.016, 0.018, 0.015, 0.016, 0.016, 0.018, 0.017, 0.016, 0.017, 0.016, 0.014, 0.016, 0.016, 0.016, 0.017, 0.016, 0.016, 0.016, 0.019, 0.016, 0.017, 0.016, 0.017, 0.015, 0.016, 0.017, 0.018, 0.015, 0.016, 0.017, 0.016, 0.015, 0.016, 0.015, 0.016, 0.017, 0.016, 0.016, 0.017, 0.015, 0.017, 0.015, 0.015, 0.016, 0.017, 0.018, 0.015, 0.015, 0.017, 0.016, 0.016, 0.014, 0.017, 0.016, 0.016, 0.015, 0.016, 0.016, 0.017, 0.016, 0.015, 0.017, 0.016, 0.016, 0.016, 0.016, 0.017, 0.017, 0.017, 0.015, 0.018, 0.016, 0.018, 0.015, 0.015]\n"
     ]
    },
    {
     "name": "stderr",
     "output_type": "stream",
     "text": [
      "0it [00:00, ?it/s]"
     ]
    },
    {
     "name": "stdout",
     "output_type": "stream",
     "text": [
      "[Apr 08, 23:26:52] [0] \t\t #> Encoding 105 passages..\n"
     ]
    },
    {
     "name": "stderr",
     "output_type": "stream",
     "text": [
      "100%|██████████| 4/4 [00:02<00:00,  1.67it/s]\n",
      "1it [00:02,  2.44s/it]\n",
      "100%|██████████| 1/1 [00:00<00:00, 1257.66it/s]"
     ]
    },
    {
     "name": "stdout",
     "output_type": "stream",
     "text": [
      "[Apr 08, 23:26:54] #> Optimizing IVF to store map from centroids to list of pids..\n",
      "[Apr 08, 23:26:54] #> Building the emb2pid mapping..\n",
      "[Apr 08, 23:26:54] len(emb2pid) = 16019\n"
     ]
    },
    {
     "name": "stderr",
     "output_type": "stream",
     "text": [
      "\n",
      "100%|██████████| 1024/1024 [00:00<00:00, 154450.78it/s]"
     ]
    },
    {
     "name": "stdout",
     "output_type": "stream",
     "text": [
      "[Apr 08, 23:26:54] #> Saved optimized IVF to .ragatouille/colbert/indexes/sample_doc_full/ivf.pid.pt\n",
      "Done indexing!\n"
     ]
    },
    {
     "name": "stderr",
     "output_type": "stream",
     "text": [
      "\n"
     ]
    }
   ],
   "source": [
    "# APARTE: manually passing in the full text, without chunking\n",
    "RAG = colbert_embed(\n",
    "    [full_doc],\n",
    "    index_name=\"sample_doc_full\",\n",
    ")"
   ]
  },
  {
   "cell_type": "code",
   "execution_count": 31,
   "metadata": {},
   "outputs": [
    {
     "name": "stdout",
     "output_type": "stream",
     "text": [
      "---- WARNING! You are using PLAID with an experimental replacement for FAISS for greater compatibility ----\n",
      "This is a behaviour change from RAGatouille 0.8.0 onwards.\n",
      "This works fine for most users and smallish datasets, but can be considerably slower than FAISS and could cause worse results in some situations.\n",
      "If you're confident with FAISS working on your machine, pass use_faiss=True to revert to the FAISS-using behaviour.\n",
      "--------------------\n",
      "\n",
      "\n",
      "[Apr 08, 23:19:45] #> Note: Output directory .ragatouille/colbert/indexes/sample_doc already exists\n",
      "\n",
      "\n",
      "[Apr 08, 23:19:45] #> Will delete 10 files already at .ragatouille/colbert/indexes/sample_doc in 20 seconds...\n",
      "[Apr 08, 23:20:06] [0] \t\t #> Encoding 172 passages..\n"
     ]
    },
    {
     "name": "stderr",
     "output_type": "stream",
     "text": [
      "/Users/cck/projects/cck-agents/.venv/lib/python3.12/site-packages/colbert/utils/amp.py:12: FutureWarning: `torch.cuda.amp.GradScaler(args...)` is deprecated. Please use `torch.amp.GradScaler('cuda', args...)` instead.\n",
      "  self.scaler = torch.cuda.amp.GradScaler()\n",
      "/Users/cck/projects/cck-agents/.venv/lib/python3.12/site-packages/torch/amp/grad_scaler.py:132: UserWarning: torch.cuda.amp.GradScaler is enabled, but CUDA is not available.  Disabling.\n",
      "  warnings.warn(\n",
      "  0%|          | 0/6 [00:00<?, ?it/s]/Users/cck/projects/cck-agents/.venv/lib/python3.12/site-packages/colbert/utils/amp.py:15: FutureWarning: `torch.cuda.amp.autocast(args...)` is deprecated. Please use `torch.amp.autocast('cuda', args...)` instead.\n",
      "  return torch.cuda.amp.autocast() if self.activated else NullContextManager()\n",
      "/Users/cck/projects/cck-agents/.venv/lib/python3.12/site-packages/torch/amp/autocast_mode.py:266: UserWarning: User provided device_type of 'cuda', but CUDA is not available. Disabling\n",
      "  warnings.warn(\n",
      "100%|██████████| 6/6 [00:03<00:00,  1.54it/s]"
     ]
    },
    {
     "name": "stdout",
     "output_type": "stream",
     "text": [
      "[Apr 08, 23:20:10] [0] \t\t avg_doclen_est = 103.0 \t len(local_sample) = 172\n",
      "[Apr 08, 23:20:10] [0] \t\t #> Saving the indexing plan to .ragatouille/colbert/indexes/sample_doc/plan.json ..\n"
     ]
    },
    {
     "name": "stderr",
     "output_type": "stream",
     "text": [
      "\n"
     ]
    },
    {
     "name": "stdout",
     "output_type": "stream",
     "text": [
      "Warning: number of training points (16831) is less than the minimum recommended (20480)\n",
      "used 16 iterations (1.3025s) to cluster 16831 items into 2048 clusters\n",
      "[0.014, 0.015, 0.012, 0.013, 0.013, 0.013, 0.014, 0.015, 0.014, 0.013, 0.015, 0.015, 0.015, 0.013, 0.014, 0.015, 0.012, 0.015, 0.014, 0.013, 0.013, 0.014, 0.015, 0.013, 0.014, 0.014, 0.014, 0.014, 0.014, 0.014, 0.013, 0.013, 0.015, 0.013, 0.014, 0.014, 0.014, 0.014, 0.014, 0.014, 0.013, 0.015, 0.015, 0.014, 0.013, 0.014, 0.015, 0.015, 0.015, 0.015, 0.015, 0.014, 0.014, 0.013, 0.014, 0.013, 0.014, 0.014, 0.014, 0.015, 0.014, 0.014, 0.014, 0.012, 0.015, 0.015, 0.015, 0.013, 0.013, 0.014, 0.013, 0.014, 0.013, 0.015, 0.014, 0.015, 0.014, 0.013, 0.014, 0.014, 0.014, 0.014, 0.013, 0.014, 0.014, 0.014, 0.013, 0.015, 0.014, 0.014, 0.014, 0.016, 0.013, 0.015, 0.014, 0.013]\n"
     ]
    },
    {
     "name": "stderr",
     "output_type": "stream",
     "text": [
      "0it [00:00, ?it/s]"
     ]
    },
    {
     "name": "stdout",
     "output_type": "stream",
     "text": [
      "[Apr 08, 23:20:11] [0] \t\t #> Encoding 172 passages..\n"
     ]
    },
    {
     "name": "stderr",
     "output_type": "stream",
     "text": [
      "100%|██████████| 6/6 [00:03<00:00,  1.60it/s]\n",
      "1it [00:03,  3.82s/it]\n",
      "100%|██████████| 1/1 [00:00<00:00, 1133.90it/s]"
     ]
    },
    {
     "name": "stdout",
     "output_type": "stream",
     "text": [
      "[Apr 08, 23:20:15] #> Optimizing IVF to store map from centroids to list of pids..\n",
      "[Apr 08, 23:20:15] #> Building the emb2pid mapping..\n",
      "[Apr 08, 23:20:15] len(emb2pid) = 17716\n"
     ]
    },
    {
     "name": "stderr",
     "output_type": "stream",
     "text": [
      "\n",
      "100%|██████████| 2048/2048 [00:00<00:00, 149762.62it/s]"
     ]
    },
    {
     "name": "stdout",
     "output_type": "stream",
     "text": [
      "[Apr 08, 23:20:15] #> Saved optimized IVF to .ragatouille/colbert/indexes/sample_doc/ivf.pid.pt\n",
      "Done indexing!\n"
     ]
    },
    {
     "name": "stderr",
     "output_type": "stream",
     "text": [
      "\n"
     ]
    }
   ],
   "source": [
    "# treating the hierarchical chunks as separate documents\n",
    "# RAG = colbert_embed(\n",
    "#     [texts],\n",
    "#     metas,\n",
    "# )"
   ]
  },
  {
   "cell_type": "code",
   "execution_count": 41,
   "metadata": {},
   "outputs": [],
   "source": [
    "%%capture\n",
    "results = RAG.search(\n",
    "    \"COVID severity from DNA damage markers in men compared to women\",\n",
    "    k=3,\n",
    ")"
   ]
  },
  {
   "cell_type": "code",
   "execution_count": 37,
   "metadata": {},
   "outputs": [
    {
     "name": "stdout",
     "output_type": "stream",
     "text": [
      "The obtained data highlight the potential significance of DNA damage as a biomarker in predicting the severity of COVID-19. Our analysis revealed that patients with severe COVID-19 exhibited higher levels of DNA damage compared to those with moderate disease, with male patients showing more pronounced damage than females. predictors of severity included age, CRP , creatinine, and INR, all correlating positively with DNA damage. ROC analysis further validated and identified specific cut-off values for the age (72.5 years)  INR (1.46 s), creatinine (78.0 umol/L) DNA damage (9.72%), and CRP (50.0 mg/L) as significant predictors of severe COVID-19 , highlighting their clinical relevance_ The cut-off points of the indicators studied are not valid in all subgroups strati fied by sex and age, and there are also minor differences in level between them, which is consistent with the importance of sex and age in the severity of infection and should be taken into account:. Thus, in the studied group of patients, the levels of DNA damage are well consistent with the severity of COVID-19.\n",
      "Therefore, the main aspect of our study was to analyze DNA damage in infected patients together with demographic and laboratory parameters and to define the biological markers that are useful in predicting a severe disease course in COVID-19 patients. The patients selected for our study were hospitalized with moderate to severe COVID-19; none were admitted to intensive care, and all eventually recovered after treatment. In addition, the patients with moderate to severe COVID-19 did not differ in terms of comorbidities , which are a major factor in COVID-19 complications. Patients were stratified according to sex and age, which are known risk factors for the severity of COVID-19 [26,27]. The current\n",
      "Abstract: The of the SARS-CoV-2 virus to cause DNA damage in infected humans requires its study as a potential indicator of COVID-19 progression. DNA damage was studied in leukocytes of 65 COVID-19 patients stratified by sex, age, and disease severity in relation to demographic, clinical, and laboratory parameters. In combined group of COVID-19 patients, DNA damage was shown to be elevated compared to controls (12.44% vs. 5.09%, p < 0.05). Severe cases showed higher DNA damage than moderate cases (14.66% vs. 10.65%, p < 0.05) , and males displayed more damage than females (13.45% vs. 8.15%, p < 0.05). DNA damage is also correlated with international normalized ratio (INR) (r = 0.471, p < 0.001) and creatinine (r = 0.326, p < 0.05).\n"
     ]
    }
   ],
   "source": [
    "for r in results:\n",
    "    print(r['content'])"
   ]
  },
  {
   "cell_type": "code",
   "execution_count": 42,
   "metadata": {},
   "outputs": [
    {
     "name": "stdout",
     "output_type": "stream",
     "text": [
      "Our analysis revealed that patients with severe COVID-19 exhibited higher levels of DNA damage compared to those with moderate disease, with male patients showing more pronounced damage than females. predictors of severity included age, CRP , creatinine, and INR, all correlating positively with DNA damage. ROC analysis further validated and identified specific cut-off values for the age (72.5 years)  INR (1.46 s), creatinine (78.0 umol/L) DNA damage (9.72%), and CRP (50.0 mg/L) as significant predictors of severe COVID-19 , highlighting their clinical relevance\\_ The cut-off points of the indicators studied are not valid in all subgroups strati fied by sex and age, and there are also minor differences in level between them, which is consistent with the importance of sex and age in the severity of infection and should be taken into account:. Thus, in the studied group of patients, the levels of DNA damage are well consistent with the severity of COVID-19.\n",
      "Current studies of predictive biomarkers for COVID-19 have mainly focused on clinical and laboratory parameters [25], with much less attention to DNA damage in infected individuals. paid\n",
      "\n",
      "Therefore, the main aspect of our study was to analyze DNA damage in infected patients together with demographic and laboratory parameters and to define the biological markers that are useful in predicting a severe disease course in COVID-19 patients. The patients selected for our study were hospitalized with moderate to severe COVID-19; none were admitted to intensive care, and all eventually recovered after treatment. In addition, the patients with moderate to severe COVID-19 did not differ in terms of comorbidities , which are a major factor in COVID-19 complications. Patients were stratified according to sex and age, which are known risk factors for the severity of COVID-19 [26,27]. The current\n",
      "\n",
      "study confirms that COVID-19 patients compared to controls and patients with severe compared to moderate infection have increased DNA damage in blood cells evaluated by the comet assay.\n",
      "\n",
      "DNA damage was significantly higher in males than in females in a moderate group of patients.\n",
      "The non-parametric Spearman's correlation test was to assess the relationship between the parameters studied. A p-value 0.05 was considered statistically significant:. Inc., http: / used\n",
      "\n",
      "## 5. Conclusions\n",
      "\n",
      "The obtained data highlight the potential significance of DNA damage as a biomarker in predicting the severity of COVID-19. Our analysis revealed that patients with severe COVID-19 exhibited higher levels of DNA damage compared to those with moderate disease, with male patients showing more pronounced damage than females. predictors of severity included age, CRP , creatinine, and INR, all correlating positively with DNA damage.\n"
     ]
    }
   ],
   "source": [
    "for r in results:\n",
    "    print(r['content'])"
   ]
  }
 ],
 "metadata": {
  "kernelspec": {
   "display_name": ".venv",
   "language": "python",
   "name": "python3"
  },
  "language_info": {
   "codemirror_mode": {
    "name": "ipython",
    "version": 3
   },
   "file_extension": ".py",
   "mimetype": "text/x-python",
   "name": "python",
   "nbconvert_exporter": "python",
   "pygments_lexer": "ipython3",
   "version": "3.12.6"
  }
 },
 "nbformat": 4,
 "nbformat_minor": 2
}
